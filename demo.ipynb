{
 "cells": [
  {
   "cell_type": "code",
   "execution_count": 1,
   "metadata": {},
   "outputs": [],
   "source": [
    "#from scSHARP.sc_sharp import *\n",
    "from scSHARP.sc_sharp import scSHARP"
   ]
  },
  {
   "cell_type": "code",
   "execution_count": 2,
   "metadata": {},
   "outputs": [],
   "source": [
    "data_path = \"simulations/splat_0.7/query_counts.csv.gz\"\n",
    "#tool_preds = \"simulations/splat_0.7/preds.csv\"\n",
    "# tool_preds = \"/users/daniel/desktop/preds_test.csv\"\n",
    "tool_preds = None\n",
    "tool_list = [\"scina\", \"scsorter\", \"sctype\", \"scpred\", \"singler\"]\n",
    "marker_path = \"/Users/maxperozek/CP499/scSHARP_tool/simulations/splat_0.7/markers.txt\"\n",
    "neighbors=2\n",
    "\n",
    "config=\"configs/2_25.txt\"\n",
    "sharp = scSHARP(data_path, tool_preds, tool_list, marker_path, neighbors, config)"
   ]
  },
  {
   "cell_type": "code",
   "execution_count": 3,
   "metadata": {},
   "outputs": [
    {
     "name": "stdout",
     "output_type": "stream",
     "text": [
      "Rscript /Users/maxperozek/CP499/scSHARP_tool/scSHARP/rdriver.r\n",
      "[1] \"/users/daniel/desktop/preds_test.csv\"\n",
      "[1] \"scina\"    \"scsorter\" \"sctype\"   \"scpred\"   \"singler\" \n",
      "$Group1\n",
      "[1] \"Gene22998\" \"Gene25191\" \"Gene4979\"  \"Gene2147\"  \"Gene23184\"\n",
      "\n",
      "$Group2\n",
      "[1] \"Gene13063\" \"Gene24725\" \"Gene17485\" \"Gene18913\" \"Gene11715\"\n",
      "\n",
      "$Group3\n",
      "[1] \"Gene32542\" \"Gene6733\"  \"Gene18063\" \"Gene15008\" \"Gene2937\" \n",
      "\n",
      "$Group4\n",
      "[1] \"Gene8214\"  \"Gene7177\"  \"Gene16718\" \"Gene26931\" \"Gene15204\"\n",
      "\n",
      "[1] \"Group1\" \"Group2\" \"Group3\" \"Group4\"\n",
      "[1] \"simulations/splat_0.7/ref_counts.csv.gz\"\n",
      "[1]  1000 33694\n",
      "[1] 33694  1000\n"
     ]
    },
    {
     "name": "stderr",
     "output_type": "stream",
     "text": [
      "Performing log-normalization\n",
      "0%   10   20   30   40   50   60   70   80   90   100%\n",
      "[----|----|----|----|----|----|----|----|----|----|\n",
      "**************************************************|\n",
      "Centering and scaling data matrix\n",
      "  |======================================================================| 100%\n",
      "Calculating gene variances\n",
      "0%   10   20   30   40   50   60   70   80   90   100%\n",
      "[----|----|----|----|----|----|----|----|----|----|\n",
      "**************************************************|\n",
      "Calculating feature variances of standardized and clipped values\n",
      "0%   10   20   30   40   50   60   70   80   90   100%\n",
      "[----|----|----|----|----|----|----|----|----|----|\n",
      "**************************************************|\n",
      "PC_ 1 \n",
      "Positive:  Gene32542, Gene6733, Gene12892, Gene2420, Gene15204, Gene20190, Gene8214, Gene20408, Gene26174, Gene17872 \n",
      "\t   Gene26682, Gene7794, Gene19284, Gene30714, Gene19548, Gene31325, Gene13977, Gene24561, Gene7646, Gene18942 \n",
      "\t   Gene25088, Gene4473, Gene10253, Gene29556, Gene17987, Gene15472, Gene30593, Gene13629, Gene28452, Gene13489 \n",
      "Negative:  Gene28271, Gene23971, Gene19473, Gene14662, Gene4979, Gene22998, Gene18913, Gene27915, Gene10025, Gene6336 \n",
      "\t   Gene21310, Gene26209, Gene26866, Gene23350, Gene31693, Gene25017, Gene5947, Gene10067, Gene23813, Gene18070 \n",
      "\t   Gene24396, Gene31465, Gene31520, Gene13251, Gene27319, Gene24510, Gene30922, Gene31853, Gene10412, Gene9203 \n",
      "PC_ 2 \n",
      "Positive:  Gene15204, Gene2420, Gene8214, Gene23971, Gene21511, Gene9330, Gene15472, Gene20535, Gene2625, Gene30604 \n",
      "\t   Gene33434, Gene33661, Gene32429, Gene29247, Gene11939, Gene1463, Gene25171, Gene28271, Gene14662, Gene10791 \n",
      "\t   Gene28789, Gene10656, Gene20690, Gene24445, Gene24314, Gene13400, Gene24886, Gene18792, Gene10726, Gene19764 \n",
      "Negative:  Gene6733, Gene32542, Gene12892, Gene19473, Gene7794, Gene3358, Gene26210, Gene22998, Gene5947, Gene6336 \n",
      "\t   Gene18961, Gene20408, Gene14640, Gene21285, Gene30538, Gene11131, Gene950, Gene10025, Gene30110, Gene25366 \n",
      "\t   Gene14918, Gene7885, Gene23113, Gene21813, Gene8236, Gene16044, Gene9203, Gene12983, Gene12949, Gene27915 \n",
      "PC_ 3 \n",
      "Positive:  Gene18913, Gene23350, Gene14662, Gene10025, Gene31693, Gene29556, Gene18121, Gene4079, Gene13251, Gene10174 \n",
      "\t   Gene10928, Gene31299, Gene27448, Gene5938, Gene2580, Gene22873, Gene3968, Gene3674, Gene24244, Gene21373 \n",
      "\t   Gene14966, Gene6809, Gene9836, Gene25845, Gene7794, Gene26520, Gene30929, Gene28436, Gene9591, Gene8975 \n",
      "Negative:  Gene4979, Gene28271, Gene19473, Gene22998, Gene26209, Gene27915, Gene24258, Gene6797, Gene29841, Gene18961 \n",
      "\t   Gene6336, Gene11832, Gene19539, Gene30126, Gene20463, Gene22994, Gene21153, Gene5306, Gene19929, Gene29796 \n",
      "\t   Gene5334, Gene28433, Gene14035, Gene13911, Gene26863, Gene25024, Gene4440, Gene27519, Gene28014, Gene31520 \n",
      "PC_ 4 \n",
      "Positive:  Gene15204, Gene8214, Gene2420, Gene26153, Gene4929, Gene9377, Gene24445, Gene8957, Gene24396, Gene10363 \n",
      "\t   Gene1463, Gene22563, Gene31846, Gene27179, Gene26242, Gene31533, Gene10791, Gene25171, Gene3674, Gene31465 \n",
      "\t   Gene32418, Gene8726, Gene10412, Gene24206, Gene16802, Gene23696, Gene16110, Gene20463, Gene14966, Gene3926 \n",
      "Negative:  Gene23350, Gene18913, Gene5778, Gene30175, Gene14662, Gene10025, Gene4209, Gene33527, Gene22269, Gene31529 \n",
      "\t   Gene33444, Gene13489, Gene8295, Gene55, Gene7478, Gene8883, Gene32650, Gene13251, Gene6330, Gene20409 \n",
      "\t   Gene1191, Gene5484, Gene29134, Gene11932, Gene9836, Gene23260, Gene29710, Gene14640, Gene6528, Gene26938 \n",
      "PC_ 5 \n",
      "Positive:  Gene19884, Gene262, Gene6808, Gene10571, Gene5334, Gene25017, Gene16524, Gene5813, Gene13397, Gene10726 \n",
      "\t   Gene26242, Gene4834, Gene27635, Gene19707, Gene20463, Gene24396, Gene18913, Gene19063, Gene31465, Gene23886 \n",
      "\t   Gene3401, Gene8401, Gene10363, Gene25924, Gene32370, Gene19076, Gene1171, Gene26119, Gene3277, Gene24206 \n",
      "Negative:  Gene950, Gene21285, Gene30554, Gene9203, Gene32343, Gene8323, Gene27319, Gene6245, Gene7885, Gene3317 \n",
      "\t   Gene17121, Gene25742, Gene21511, Gene31520, Gene19787, Gene27854, Gene3158, Gene24085, Gene3948, Gene13401 \n",
      "\t   Gene2420, Gene2410, Gene15204, Gene33399, Gene11339, Gene13405, Gene25119, Gene2935, Gene14918, Gene12182 \n",
      "Computing nearest neighbor graph\n",
      "Computing SNN\n",
      "0%   10   20   30   40   50   60   70   80   90   100%\n",
      "[----|----|----|----|----|----|----|----|----|----|\n",
      "**************************************************|\n"
     ]
    },
    {
     "name": "stdout",
     "output_type": "stream",
     "text": [
      "Modularity Optimizer version 1.3.0 by Ludo Waltman and Nees Jan van Eck\n",
      "\n",
      "Number of nodes: 1000\n",
      "Number of edges: 41265\n",
      "\n",
      "Running Louvain algorithm...\n",
      "Maximum modularity in 10 random starts: 0.6546\n",
      "Number of communities: 4\n",
      "Elapsed time: 0 seconds\n",
      "[1] \"Running SCINA\"\n",
      "[1] \"Running scSorter\"\n",
      "[1] \"Running scType\"\n"
     ]
    },
    {
     "name": "stderr",
     "output_type": "stream",
     "text": [
      "Performing log-normalization\n",
      "0%   10   20   30   40   50   60   70   80   90   100%\n",
      "[----|----|----|----|----|----|----|----|----|----|\n",
      "**************************************************|\n",
      "Calculating gene variances\n",
      "0%   10   20   30   40   50   60   70   80   90   100%\n",
      "[----|----|----|----|----|----|----|----|----|----|\n",
      "**************************************************|\n",
      "Calculating feature variances of standardized and clipped values\n",
      "0%   10   20   30   40   50   60   70   80   90   100%\n",
      "[----|----|----|----|----|----|----|----|----|----|\n",
      "**************************************************|\n",
      "Centering and scaling data matrix\n",
      "  |======================================================================| 100%\n",
      "PC_ 1 \n",
      "Positive:  Gene28271, Gene14662, Gene19473, Gene4979, Gene18913, Gene22998, Gene23350, Gene2519, Gene11715, Gene22174 \n",
      "\t   Gene8601, Gene28909, Gene2343, Gene15151, Gene28661, Gene10673, Gene639, Gene8551, Gene21693, Gene3941 \n",
      "\t   Gene18213, Gene18986, Gene22195, Gene4841, Gene14757, Gene31896, Gene26133, Gene16104, Gene29888, Gene24396 \n",
      "Negative:  Gene12892, Gene32542, Gene6733, Gene15204, Gene2420, Gene9589, Gene14433, Gene11271, Gene29505, Gene19787 \n",
      "\t   Gene2037, Gene20182, Gene30742, Gene19867, Gene14994, Gene8647, Gene18118, Gene28554, Gene22470, Gene21183 \n",
      "\t   Gene15472, Gene10985, Gene5233, Gene20442, Gene26230, Gene10959, Gene18767, Gene4255, Gene12414, Gene24031 \n",
      "PC_ 2 \n",
      "Positive:  Gene18913, Gene23350, Gene11715, Gene14662, Gene21693, Gene2386, Gene27208, Gene8535, Gene11871, Gene22174 \n",
      "\t   Gene14645, Gene11283, Gene31871, Gene2124, Gene32623, Gene19605, Gene14757, Gene639, Gene7906, Gene28540 \n",
      "\t   Gene19277, Gene4474, Gene26661, Gene16897, Gene24225, Gene33420, Gene14216, Gene17493, Gene2326, Gene22936 \n",
      "Negative:  Gene4979, Gene28271, Gene19473, Gene22998, Gene2519, Gene30463, Gene22989, Gene8652, Gene2812, Gene10673 \n",
      "\t   Gene26946, Gene17664, Gene16640, Gene7845, Gene562, Gene17056, Gene24847, Gene15204, Gene488, Gene2420 \n",
      "\t   Gene2073, Gene6797, Gene26210, Gene24372, Gene14932, Gene19548, Gene5042, Gene16203, Gene3853, Gene33289 \n",
      "PC_ 3 \n",
      "Positive:  Gene15204, Gene2420, Gene28271, Gene8507, Gene26906, Gene17803, Gene26946, Gene26653, Gene28399, Gene15472 \n",
      "\t   Gene8552, Gene19044, Gene25662, Gene8866, Gene12718, Gene16293, Gene11133, Gene20182, Gene14662, Gene16813 \n",
      "\t   Gene13642, Gene3036, Gene18118, Gene30463, Gene2386, Gene12582, Gene12873, Gene4474, Gene15368, Gene13459 \n",
      "Negative:  Gene6733, Gene12892, Gene32542, Gene22174, Gene5644, Gene24449, Gene19867, Gene22822, Gene18704, Gene14932 \n",
      "\t   Gene31834, Gene2812, Gene15433, Gene15175, Gene5081, Gene1237, Gene30490, Gene3720, Gene10258, Gene28973 \n",
      "\t   Gene31756, Gene27351, Gene11271, Gene17906, Gene16104, Gene6806, Gene23113, Gene22044, Gene27586, Gene3503 \n",
      "PC_ 4 \n",
      "Positive:  Gene8178, Gene1506, Gene32479, Gene27738, Gene13842, Gene19701, Gene32542, Gene28428, Gene3384, Gene20468 \n",
      "\t   Gene22174, Gene31666, Gene7032, Gene3871, Gene30604, Gene16692, Gene9787, Gene25608, Gene16000, Gene31756 \n",
      "\t   Gene9451, Gene6190, Gene30279, Gene9319, Gene12892, Gene8114, Gene13794, Gene11271, Gene15615, Gene6214 \n",
      "Negative:  Gene24449, Gene22822, Gene18704, Gene32107, Gene16308, Gene3720, Gene13215, Gene9595, Gene15204, Gene28579 \n",
      "\t   Gene1871, Gene28102, Gene13377, Gene25088, Gene26987, Gene5644, Gene27208, Gene10553, Gene32898, Gene2166 \n",
      "\t   Gene2420, Gene23523, Gene11942, Gene16975, Gene31626, Gene5042, Gene15212, Gene15468, Gene22044, Gene33335 \n",
      "PC_ 5 \n",
      "Positive:  Gene14932, Gene8575, Gene9975, Gene5077, Gene9451, Gene32418, Gene11563, Gene15034, Gene33560, Gene10199 \n",
      "\t   Gene20412, Gene31876, Gene7505, Gene18671, Gene2073, Gene16024, Gene18727, Gene8551, Gene25746, Gene28909 \n",
      "\t   Gene30981, Gene14914, Gene30969, Gene1691, Gene26403, Gene9063, Gene26663, Gene8812, Gene31898, Gene21242 \n",
      "Negative:  Gene29888, Gene2343, Gene25435, Gene2376, Gene16104, Gene12458, Gene12603, Gene8866, Gene26878, Gene16433 \n",
      "\t   Gene9595, Gene10204, Gene2420, Gene14831, Gene33149, Gene17287, Gene6142, Gene23328, Gene26942, Gene19310 \n",
      "\t   Gene5632, Gene6301, Gene5644, Gene7307, Gene18118, Gene24127, Gene1466, Gene4841, Gene16028, Gene17333 \n",
      "Warning: The default method for RunUMAP has changed from calling Python UMAP via reticulate to the R-native UWOT using the cosine metric\n",
      "To use Python UMAP via reticulate, set umap.method to 'umap-learn' and metric to 'correlation'\n",
      "This message will be shown once per session\n",
      "10:38:55 UMAP embedding parameters a = 0.9922 b = 1.112\n",
      "10:38:55 Read 1000 rows and found 30 numeric columns\n",
      "10:38:55 Using Annoy for neighbor search, n_neighbors = 30\n",
      "10:38:55 Building Annoy index with metric = cosine, n_trees = 50\n",
      "0%   10   20   30   40   50   60   70   80   90   100%\n",
      "[----|----|----|----|----|----|----|----|----|----|\n",
      "**************************************************|\n",
      "10:38:55 Writing NN index file to temp file /var/folders/ms/mpc19fxd7zz_dr0tr65kskdh0000gn/T//RtmpoRbq9F/file14c0d4c2e0e39\n",
      "10:38:55 Searching Annoy index using 1 thread, search_k = 3000\n",
      "10:38:55 Annoy recall = 100%\n",
      "10:38:56 Commencing smooth kNN distance calibration using 1 thread with target n_neighbors = 30\n",
      "10:38:57 Initializing from normalized Laplacian + noise (using irlba)\n",
      "10:38:57 Commencing optimization for 500 epochs, with 34470 positive edges\n",
      "Using method 'umap'\n",
      "0%   10   20   30   40   50   60   70   80   90   100%\n",
      "[----|----|----|----|----|----|----|----|----|----|\n",
      "**************************************************|\n",
      "10:38:59 Optimization finished\n"
     ]
    },
    {
     "name": "stdout",
     "output_type": "stream",
     "text": [
      "●  Extracting feature space for each cell type...\n",
      "DONE!\n",
      "●  Training models for each cell type...\n"
     ]
    },
    {
     "name": "stderr",
     "output_type": "stream",
     "text": [
      "Loading required package: ggplot2\n",
      "Loading required package: lattice\n"
     ]
    },
    {
     "name": "stdout",
     "output_type": "stream",
     "text": [
      "DONE!\n",
      "●  Matching reference with new dataset...\n",
      "\t ─ 2000 features present in reference loadings\n",
      "\t ─ 2000 features shared between reference and new dataset\n",
      "\t ─ 100% of features in the reference are present in new dataset\n",
      "●  Aligning new data to reference...\n"
     ]
    },
    {
     "name": "stderr",
     "output_type": "stream",
     "text": [
      "Harmony 1/20\n",
      "0%   10   20   30   40   50   60   70   80   90   100%\n",
      "[----|----|----|----|----|----|----|----|----|----|\n",
      "**************************************************|\n",
      "Harmony 2/20\n",
      "0%   10   20   30   40   50   60   70   80   90   100%\n",
      "[----|----|----|----|----|----|----|----|----|----|\n",
      "**************************************************|\n",
      "Harmony 3/20\n",
      "0%   10   20   30   40   50   60   70   80   90   100%\n",
      "[----|----|----|----|----|----|----|----|----|----|\n",
      "**************************************************|\n",
      "Harmony 4/20\n",
      "0%   10   20   30   40   50   60   70   80   90   100%\n",
      "[----|----|----|----|----|----|----|----|----|----|\n",
      "**************************************************|\n",
      "Harmony 5/20\n",
      "0%   10   20   30   40   50   60   70   80   90   100%\n",
      "[----|----|----|----|----|----|----|----|----|----|\n",
      "**************************************************|\n",
      "Harmony 6/20\n",
      "0%   10   20   30   40   50   60   70   80   90   100%\n",
      "[----|----|----|----|----|----|----|----|----|----|\n",
      "**************************************************|\n",
      "Harmony 7/20\n",
      "0%   10   20   30   40   50   60   70   80   90   100%\n",
      "[----|----|----|----|----|----|----|----|----|----|\n",
      "**************************************************|\n",
      "Harmony 8/20\n",
      "0%   10   20   30   40   50   60   70   80   90   100%\n",
      "[----|----|----|----|----|----|----|----|----|----|\n",
      "**************************************************|\n",
      "Harmony 9/20\n",
      "0%   10   20   30   40   50   60   70   80   90   100%\n",
      "[----|----|----|----|----|----|----|----|----|----|\n",
      "**************************************************|\n",
      "Harmony 10/20\n",
      "0%   10   20   30   40   50   60   70   80   90   100%\n",
      "[----|----|----|----|----|----|----|----|----|----|\n",
      "**************************************************|\n",
      "Harmony 11/20\n",
      "0%   10   20   30   40   50   60   70   80   90   100%\n",
      "[----|----|----|----|----|----|----|----|----|----|\n",
      "**************************************************|\n",
      "Harmony 12/20\n",
      "0%   10   20   30   40   50   60   70   80   90   100%\n",
      "[----|----|----|----|----|----|----|----|----|----|\n",
      "**************************************************|\n",
      "Harmony 13/20\n",
      "0%   10   20   30   40   50   60   70   80   90   100%\n",
      "[----|----|----|----|----|----|----|----|----|----|\n",
      "**************************************************|\n",
      "Harmony 14/20\n",
      "0%   10   20   30   40   50   60   70   80   90   100%\n",
      "[----|----|----|----|----|----|----|----|----|----|\n",
      "**************************************************|\n",
      "Harmony 15/20\n",
      "0%   10   20   30   40   50   60   70   80   90   100%\n",
      "[----|----|----|----|----|----|----|----|----|----|\n",
      "**************************************************|\n",
      "Harmony 16/20\n",
      "0%   10   20   30   40   50   60   70   80   90   100%\n",
      "[----|----|----|----|----|----|----|----|----|----|\n",
      "**************************************************|\n",
      "Harmony 17/20\n",
      "0%   10   20   30   40   50   60   70   80   90   100%\n",
      "[----|----|----|----|----|----|----|----|----|----|\n",
      "**************************************************|\n",
      "Harmony 18/20\n",
      "0%   10   20   30   40   50   60   70   80   90   100%\n",
      "[----|----|----|----|----|----|----|----|----|----|\n",
      "**************************************************|\n",
      "Harmony 19/20\n",
      "0%   10   20   30   40   50   60   70   80   90   100%\n",
      "[----|----|----|----|----|----|----|----|----|----|\n",
      "**************************************************|\n",
      "Harmony 20/20\n",
      "0%   10   20   30   40   50   60   70   80   90   100%\n",
      "[----|----|----|----|----|----|----|----|----|----|\n",
      "*"
     ]
    },
    {
     "name": "stdout",
     "output_type": "stream",
     "text": [
      "●  Classifying cells...\n",
      "DONE!\n"
     ]
    },
    {
     "name": "stderr",
     "output_type": "stream",
     "text": [
      "*************************************************|\n",
      "Error in file(file, ifelse(append, \"a\", \"w\")) : \n",
      "  cannot open the connection\n",
      "Calls: run_r4scsharp ... write.csv -> eval.parent -> eval -> eval -> <Anonymous> -> file\n",
      "In addition: Warning messages:\n",
      "1: In simpleLoess(y, x, w, span, degree = degree, parametric = parametric,  :\n",
      "  pseudoinverse used at -2.699\n",
      "2: In simpleLoess(y, x, w, span, degree = degree, parametric = parametric,  :\n",
      "  neighborhood radius 0.30103\n",
      "3: In simpleLoess(y, x, w, span, degree = degree, parametric = parametric,  :\n",
      "  reciprocal condition number  2.0083e-14\n",
      "4: In file(file, ifelse(append, \"a\", \"w\")) :\n",
      "  cannot open file '/users/daniel/desktop/preds_test.csv': No such file or directory\n",
      "Execution halted\n"
     ]
    },
    {
     "data": {
      "text/plain": [
       "True"
      ]
     },
     "execution_count": 3,
     "metadata": {},
     "output_type": "execute_result"
    }
   ],
   "source": [
    "out_path = \"/users/daniel/desktop/preds_test.csv\"\n",
    "ref_path = \"simulations/splat_0.7/ref_counts.csv.gz\"\n",
    "ref_label_path = \"simulations/splat_0.7/ref_labels.csv\"\n",
    "sharp.run_tools(out_path, ref_path, ref_label_path)"
   ]
  },
  {
   "cell_type": "code",
   "execution_count": 4,
   "metadata": {},
   "outputs": [
    {
     "ename": "Exception",
     "evalue": "Prediction Dataframe not Found at /users/daniel/desktop/preds_test.csv",
     "output_type": "error",
     "traceback": [
      "\u001b[0;31m---------------------------------------------------------------------------\u001b[0m",
      "\u001b[0;31mException\u001b[0m                                 Traceback (most recent call last)",
      "\u001b[0;32m/var/folders/ms/mpc19fxd7zz_dr0tr65kskdh0000gn/T/ipykernel_84954/3067045904.py\u001b[0m in \u001b[0;36m<module>\u001b[0;34m\u001b[0m\n\u001b[0;32m----> 1\u001b[0;31m \u001b[0msharp\u001b[0m\u001b[0;34m.\u001b[0m\u001b[0mcomponent_correlation\u001b[0m\u001b[0;34m(\u001b[0m\u001b[0;34m)\u001b[0m\u001b[0;34m\u001b[0m\u001b[0;34m\u001b[0m\u001b[0m\n\u001b[0m",
      "\u001b[0;32m~/CP499/scSHARP_tool/scSHARP/sc_sharp.py\u001b[0m in \u001b[0;36mcomponent_correlation\u001b[0;34m(self)\u001b[0m\n\u001b[1;32m    275\u001b[0m     \u001b[0;32mdef\u001b[0m \u001b[0mcomponent_correlation\u001b[0m\u001b[0;34m(\u001b[0m\u001b[0mself\u001b[0m\u001b[0;34m)\u001b[0m\u001b[0;34m:\u001b[0m\u001b[0;34m\u001b[0m\u001b[0;34m\u001b[0m\u001b[0m\n\u001b[1;32m    276\u001b[0m         \u001b[0;34m\"\"\"Returns correlation values and heatmap between tool columns\"\"\"\u001b[0m\u001b[0;34m\u001b[0m\u001b[0;34m\u001b[0m\u001b[0m\n\u001b[0;32m--> 277\u001b[0;31m         \u001b[0mpreds\u001b[0m \u001b[0;34m=\u001b[0m \u001b[0mself\u001b[0m\u001b[0;34m.\u001b[0m\u001b[0mget_component_preds\u001b[0m\u001b[0;34m(\u001b[0m\u001b[0mfactorized\u001b[0m\u001b[0;34m=\u001b[0m\u001b[0;32mTrue\u001b[0m\u001b[0;34m)\u001b[0m\u001b[0;34m\u001b[0m\u001b[0;34m\u001b[0m\u001b[0m\n\u001b[0m\u001b[1;32m    278\u001b[0m         \u001b[0mcorr_mat\u001b[0m \u001b[0;34m=\u001b[0m \u001b[0mnp\u001b[0m\u001b[0;34m.\u001b[0m\u001b[0mcorrcoef\u001b[0m\u001b[0;34m(\u001b[0m\u001b[0mnp\u001b[0m\u001b[0;34m.\u001b[0m\u001b[0marray\u001b[0m\u001b[0;34m(\u001b[0m\u001b[0mpreds\u001b[0m\u001b[0;34m)\u001b[0m\u001b[0;34m,\u001b[0m \u001b[0mrowvar\u001b[0m\u001b[0;34m=\u001b[0m\u001b[0;32mFalse\u001b[0m\u001b[0;34m)\u001b[0m\u001b[0;34m\u001b[0m\u001b[0;34m\u001b[0m\u001b[0m\n\u001b[1;32m    279\u001b[0m         \u001b[0mcorr_mat_df\u001b[0m \u001b[0;34m=\u001b[0m \u001b[0mpd\u001b[0m\u001b[0;34m.\u001b[0m\u001b[0mDataFrame\u001b[0m\u001b[0;34m(\u001b[0m\u001b[0mcorr_mat\u001b[0m\u001b[0;34m,\u001b[0m \u001b[0mcolumns\u001b[0m\u001b[0;34m=\u001b[0m\u001b[0mpreds\u001b[0m\u001b[0;34m.\u001b[0m\u001b[0mcolumns\u001b[0m\u001b[0;34m,\u001b[0m \u001b[0mindex\u001b[0m\u001b[0;34m=\u001b[0m\u001b[0mpreds\u001b[0m\u001b[0;34m.\u001b[0m\u001b[0mcolumns\u001b[0m\u001b[0;34m)\u001b[0m\u001b[0;34m\u001b[0m\u001b[0;34m\u001b[0m\u001b[0m\n",
      "\u001b[0;32m~/CP499/scSHARP_tool/scSHARP/sc_sharp.py\u001b[0m in \u001b[0;36mget_component_preds\u001b[0;34m(self, factorized)\u001b[0m\n\u001b[1;32m    265\u001b[0m \u001b[0;34m\u001b[0m\u001b[0m\n\u001b[1;32m    266\u001b[0m             \u001b[0;32melse\u001b[0m\u001b[0;34m:\u001b[0m\u001b[0;34m\u001b[0m\u001b[0;34m\u001b[0m\u001b[0m\n\u001b[0;32m--> 267\u001b[0;31m                 \u001b[0;32mraise\u001b[0m \u001b[0mException\u001b[0m\u001b[0;34m(\u001b[0m\u001b[0;34m\"Prediction Dataframe not Found at \"\u001b[0m \u001b[0;34m+\u001b[0m \u001b[0mself\u001b[0m\u001b[0;34m.\u001b[0m\u001b[0mpreds_path\u001b[0m\u001b[0;34m)\u001b[0m\u001b[0;34m\u001b[0m\u001b[0;34m\u001b[0m\u001b[0m\n\u001b[0m\u001b[1;32m    268\u001b[0m \u001b[0;34m\u001b[0m\u001b[0m\n\u001b[1;32m    269\u001b[0m         \u001b[0;32mif\u001b[0m \u001b[0mfactorized\u001b[0m\u001b[0;34m:\u001b[0m\u001b[0;34m\u001b[0m\u001b[0;34m\u001b[0m\u001b[0m\n",
      "\u001b[0;31mException\u001b[0m: Prediction Dataframe not Found at /users/daniel/desktop/preds_test.csv"
     ]
    }
   ],
   "source": [
    "sharp.component_correlation()"
   ]
  },
  {
   "cell_type": "code",
   "execution_count": 9,
   "metadata": {},
   "outputs": [
    {
     "ename": "Exception",
     "evalue": "Prediction Dataframe not Found at /users/daniel/desktop/preds_test.csv",
     "output_type": "error",
     "traceback": [
      "\u001b[0;31m---------------------------------------------------------------------------\u001b[0m",
      "\u001b[0;31mException\u001b[0m                                 Traceback (most recent call last)",
      "\u001b[0;32m/var/folders/ms/mpc19fxd7zz_dr0tr65kskdh0000gn/T/ipykernel_21286/875578514.py\u001b[0m in \u001b[0;36m<module>\u001b[0;34m\u001b[0m\n\u001b[0;32m----> 1\u001b[0;31m \u001b[0mpreds\u001b[0m\u001b[0;34m,\u001b[0m \u001b[0mtrain_nodes\u001b[0m\u001b[0;34m,\u001b[0m \u001b[0mtest_nodes\u001b[0m\u001b[0;34m,\u001b[0m \u001b[0mkeep_cells\u001b[0m\u001b[0;34m,\u001b[0m \u001b[0mconf_scores\u001b[0m \u001b[0;34m=\u001b[0m \u001b[0msharp\u001b[0m\u001b[0;34m.\u001b[0m\u001b[0mrun_prediction\u001b[0m\u001b[0;34m(\u001b[0m\u001b[0mtraining_epochs\u001b[0m\u001b[0;34m=\u001b[0m\u001b[0;36m30\u001b[0m\u001b[0;34m,\u001b[0m \u001b[0mthresh\u001b[0m\u001b[0;34m=\u001b[0m\u001b[0;36m0.51\u001b[0m\u001b[0;34m,\u001b[0m \u001b[0mbatch_size\u001b[0m\u001b[0;34m=\u001b[0m\u001b[0;36m20\u001b[0m\u001b[0;34m,\u001b[0m \u001b[0mseed\u001b[0m\u001b[0;34m=\u001b[0m\u001b[0;36m8\u001b[0m\u001b[0;34m)\u001b[0m\u001b[0;34m\u001b[0m\u001b[0;34m\u001b[0m\u001b[0m\n\u001b[0m\u001b[1;32m      2\u001b[0m \u001b[0mprint\u001b[0m\u001b[0;34m(\u001b[0m\u001b[0mpreds\u001b[0m\u001b[0;34m[\u001b[0m\u001b[0;36m0\u001b[0m\u001b[0;34m:\u001b[0m\u001b[0;36m10\u001b[0m\u001b[0;34m]\u001b[0m\u001b[0;34m)\u001b[0m\u001b[0;34m\u001b[0m\u001b[0;34m\u001b[0m\u001b[0m\n\u001b[1;32m      3\u001b[0m \u001b[0mprint\u001b[0m\u001b[0;34m(\u001b[0m\u001b[0mconf_scores\u001b[0m\u001b[0;34m[\u001b[0m\u001b[0;36m0\u001b[0m\u001b[0;34m:\u001b[0m\u001b[0;36m10\u001b[0m\u001b[0;34m]\u001b[0m\u001b[0;34m)\u001b[0m\u001b[0;34m\u001b[0m\u001b[0;34m\u001b[0m\u001b[0m\n",
      "\u001b[0;32m~/CP499/scSHARP_tool/scSHARP/sc_sharp.py\u001b[0m in \u001b[0;36mrun_prediction\u001b[0;34m(self, training_epochs, thresh, batch_size, seed)\u001b[0m\n\u001b[1;32m    145\u001b[0m             \u001b[0mtrain_nodes\u001b[0m\u001b[0;34m:\u001b[0m \u001b[0mconfident\u001b[0m \u001b[0mlabels\u001b[0m \u001b[0mused\u001b[0m \u001b[0;32mfor\u001b[0m \u001b[0mtraining\u001b[0m\u001b[0;34m\u001b[0m\u001b[0;34m\u001b[0m\u001b[0m\n\u001b[1;32m    146\u001b[0m             \u001b[0mtest_nodes\u001b[0m\u001b[0;34m:\u001b[0m \u001b[0mconfident\u001b[0m \u001b[0mlabels\u001b[0m \u001b[0mused\u001b[0m \u001b[0;32mfor\u001b[0m \u001b[0mevaluation\u001b[0m \u001b[0;34m(\u001b[0m\u001b[0mmasked\u001b[0m \u001b[0mlabels\u001b[0m\u001b[0;34m)\u001b[0m\u001b[0;34m\u001b[0m\u001b[0;34m\u001b[0m\u001b[0m\n\u001b[0;32m--> 147\u001b[0;31m             \u001b[0mkeep_cells\u001b[0m\u001b[0;34m:\u001b[0m \u001b[0mcells\u001b[0m \u001b[0mused\u001b[0m \u001b[0;32min\u001b[0m \u001b[0mtraining\u001b[0m \u001b[0mprocess\u001b[0m\u001b[0;34m,\u001b[0m \u001b[0mdetermined\u001b[0m \u001b[0mduring\u001b[0m \u001b[0mdata\u001b[0m \u001b[0mpreprocessing\u001b[0m\u001b[0;34m\u001b[0m\u001b[0;34m\u001b[0m\u001b[0m\n\u001b[0m\u001b[1;32m    148\u001b[0m             \u001b[0mconf_scores\u001b[0m\u001b[0;34m:\u001b[0m \u001b[0mmodel\u001b[0m \u001b[0mconfidence\u001b[0m \u001b[0mvalues\u001b[0m \u001b[0;32mfor\u001b[0m \u001b[0meach\u001b[0m \u001b[0mprediction\u001b[0m\u001b[0;34m\u001b[0m\u001b[0;34m\u001b[0m\u001b[0m\n\u001b[1;32m    149\u001b[0m \u001b[0;34m\u001b[0m\u001b[0m\n",
      "\u001b[0;32m~/CP499/scSHARP_tool/scSHARP/sc_sharp.py\u001b[0m in \u001b[0;36mprepare_data\u001b[0;34m(self, thresh, normalize, scale, targetsum, run_pca, comps, cell_fil, gene_fil)\u001b[0m\n\u001b[1;32m    102\u001b[0m \u001b[0;34m\u001b[0m\u001b[0m\n\u001b[1;32m    103\u001b[0m         \u001b[0;32mif\u001b[0m \u001b[0mos\u001b[0m\u001b[0;34m.\u001b[0m\u001b[0mpath\u001b[0m\u001b[0;34m.\u001b[0m\u001b[0mexists\u001b[0m\u001b[0;34m(\u001b[0m\u001b[0mself\u001b[0m\u001b[0;34m.\u001b[0m\u001b[0mpreds_path\u001b[0m\u001b[0;34m)\u001b[0m\u001b[0;34m:\u001b[0m\u001b[0;34m\u001b[0m\u001b[0;34m\u001b[0m\u001b[0m\n\u001b[0;32m--> 104\u001b[0;31m             \u001b[0mself\u001b[0m\u001b[0;34m.\u001b[0m\u001b[0mall_labels\u001b[0m \u001b[0;34m=\u001b[0m \u001b[0mpd\u001b[0m\u001b[0;34m.\u001b[0m\u001b[0mread_csv\u001b[0m\u001b[0;34m(\u001b[0m\u001b[0mself\u001b[0m\u001b[0;34m.\u001b[0m\u001b[0mpreds_path\u001b[0m\u001b[0;34m,\u001b[0m \u001b[0mindex_col\u001b[0m\u001b[0;34m=\u001b[0m\u001b[0;36m0\u001b[0m\u001b[0;34m)\u001b[0m\u001b[0;34m\u001b[0m\u001b[0;34m\u001b[0m\u001b[0m\n\u001b[0m\u001b[1;32m    105\u001b[0m             \u001b[0;32mif\u001b[0m \u001b[0mself\u001b[0m\u001b[0;34m.\u001b[0m\u001b[0mall_labels\u001b[0m\u001b[0;34m.\u001b[0m\u001b[0mshape\u001b[0m\u001b[0;34m[\u001b[0m\u001b[0;36m1\u001b[0m\u001b[0;34m]\u001b[0m \u001b[0;34m!=\u001b[0m \u001b[0mlen\u001b[0m\u001b[0;34m(\u001b[0m\u001b[0mself\u001b[0m\u001b[0;34m.\u001b[0m\u001b[0mtools\u001b[0m\u001b[0;34m)\u001b[0m\u001b[0;34m:\u001b[0m\u001b[0;34m\u001b[0m\u001b[0;34m\u001b[0m\u001b[0m\n\u001b[1;32m    106\u001b[0m                 \u001b[0mself\u001b[0m\u001b[0;34m.\u001b[0m\u001b[0mall_labels\u001b[0m \u001b[0;34m=\u001b[0m \u001b[0mself\u001b[0m\u001b[0;34m.\u001b[0m\u001b[0mall_labels\u001b[0m\u001b[0;34m[\u001b[0m\u001b[0mself\u001b[0m\u001b[0;34m.\u001b[0m\u001b[0mtools\u001b[0m\u001b[0;34m]\u001b[0m\u001b[0;34m\u001b[0m\u001b[0;34m\u001b[0m\u001b[0m\n",
      "\u001b[0;31mException\u001b[0m: Prediction Dataframe not Found at /users/daniel/desktop/preds_test.csv"
     ]
    }
   ],
   "source": [
    "preds, train_nodes, test_nodes, keep_cells, conf_scores = sharp.run_prediction(training_epochs=30, thresh=0.51, batch_size=20, seed=8)\n",
    "print(preds[0:10])\n",
    "print(conf_scores[0:10])"
   ]
  },
  {
   "cell_type": "code",
   "execution_count": 6,
   "metadata": {},
   "outputs": [],
   "source": [
    "sharp.save_model(\"/Users/daniel/Desktop/example_model\")"
   ]
  },
  {
   "cell_type": "code",
   "execution_count": 4,
   "metadata": {},
   "outputs": [],
   "source": [
    "sharp.load_model(\"/Users/daniel/Desktop/example_model\")"
   ]
  },
  {
   "cell_type": "code",
   "execution_count": 7,
   "metadata": {},
   "outputs": [
    {
     "ename": "AttributeError",
     "evalue": "'scSHARP' object has no attribute 'model_trained'",
     "output_type": "error",
     "traceback": [
      "\u001b[0;31m---------------------------------------------------------------------------\u001b[0m",
      "\u001b[0;31mAttributeError\u001b[0m                            Traceback (most recent call last)",
      "\u001b[0;32m/var/folders/ms/mpc19fxd7zz_dr0tr65kskdh0000gn/T/ipykernel_21286/4006944838.py\u001b[0m in \u001b[0;36m<module>\u001b[0;34m\u001b[0m\n\u001b[0;32m----> 1\u001b[0;31m \u001b[0mint_df\u001b[0m \u001b[0;34m=\u001b[0m \u001b[0msharp\u001b[0m\u001b[0;34m.\u001b[0m\u001b[0mrun_interpretation\u001b[0m\u001b[0;34m(\u001b[0m\u001b[0;34m)\u001b[0m\u001b[0;34m\u001b[0m\u001b[0;34m\u001b[0m\u001b[0m\n\u001b[0m\u001b[1;32m      2\u001b[0m \u001b[0msharp\u001b[0m\u001b[0;34m.\u001b[0m\u001b[0mheat_map\u001b[0m\u001b[0;34m(\u001b[0m\u001b[0mint_df\u001b[0m\u001b[0;34m,\u001b[0m \u001b[0mn\u001b[0m\u001b[0;34m=\u001b[0m\u001b[0;36m5\u001b[0m\u001b[0;34m)\u001b[0m\u001b[0;34m\u001b[0m\u001b[0;34m\u001b[0m\u001b[0m\n",
      "\u001b[0;32m~/CP499/scSHARP_tool/scSHARP/sc_sharp.py\u001b[0m in \u001b[0;36mrun_interpretation\u001b[0;34m(self)\u001b[0m\n\u001b[1;32m    182\u001b[0m         \u001b[0mInterpretation\u001b[0m \u001b[0mrequires\u001b[0m \u001b[0ma\u001b[0m \u001b[0mtrained\u001b[0m \u001b[0mmodel\u001b[0m\u001b[0;34m.\u001b[0m \u001b[0mModel\u001b[0m \u001b[0;32mis\u001b[0m \u001b[0mtrained\u001b[0m \u001b[0mby\u001b[0m \u001b[0mscSHARP\u001b[0m\u001b[0;34m.\u001b[0m\u001b[0mrun_prediction\u001b[0m\u001b[0;34m(\u001b[0m\u001b[0;34m)\u001b[0m\u001b[0;34m\u001b[0m\u001b[0;34m\u001b[0m\u001b[0m\n\u001b[1;32m    183\u001b[0m \u001b[0;34m\u001b[0m\u001b[0m\n\u001b[0;32m--> 184\u001b[0;31m         \u001b[0mReturns\u001b[0m\u001b[0;34m\u001b[0m\u001b[0;34m\u001b[0m\u001b[0m\n\u001b[0m\u001b[1;32m    185\u001b[0m         \u001b[0;34m-\u001b[0m\u001b[0;34m-\u001b[0m\u001b[0;34m-\u001b[0m\u001b[0;34m-\u001b[0m\u001b[0;34m-\u001b[0m\u001b[0;34m-\u001b[0m\u001b[0;34m-\u001b[0m\u001b[0;34m\u001b[0m\u001b[0;34m\u001b[0m\u001b[0m\n\u001b[1;32m    186\u001b[0m         \u001b[0mint_df\u001b[0m\u001b[0;34m:\u001b[0m \u001b[0mThe\u001b[0m \u001b[0minterpretation\u001b[0m \u001b[0mdataframe\u001b[0m \u001b[0;32mwith\u001b[0m \u001b[0mrows\u001b[0m \u001b[0mcorresponding\u001b[0m \u001b[0;32mwith\u001b[0m \u001b[0mgenes\u001b[0m \u001b[0;32mand\u001b[0m \u001b[0mcolumns\u001b[0m \u001b[0mcorresponding\u001b[0m \u001b[0mto\u001b[0m \u001b[0mcell\u001b[0m \u001b[0mtypes\u001b[0m\u001b[0;34m.\u001b[0m\u001b[0;34m\u001b[0m\u001b[0;34m\u001b[0m\u001b[0m\n",
      "\u001b[0;31mAttributeError\u001b[0m: 'scSHARP' object has no attribute 'model_trained'"
     ]
    }
   ],
   "source": [
    "int_df = sharp.run_interpretation()\n",
    "sharp.heat_map(int_df, n=5)"
   ]
  },
  {
   "cell_type": "code",
   "execution_count": 4,
   "metadata": {},
   "outputs": [
    {
     "data": {
      "image/png": "[encoded data removed]",
      "text/plain": [
       "<Figure size 538.128x288 with 1 Axes>"
      ]
     },
     "metadata": {
      "needs_background": "light"
     },
     "output_type": "display_data"
    }
   ],
   "source": [
    "sharp.expression_plots(genes=['Gene28271'])"
   ]
  }
 ],
 "metadata": {
  "kernelspec": {
   "display_name": "thesis",
   "language": "python",
   "name": "python3"
  },
  "language_info": {
   "codemirror_mode": {
    "name": "ipython",
    "version": 3
   },
   "file_extension": ".py",
   "mimetype": "text/x-python",
   "name": "python",
   "nbconvert_exporter": "python",
   "pygments_lexer": "ipython3",
   "version": "3.9.7"
  },
  "orig_nbformat": 4,
  "vscode": {
   "interpreter": {
    "hash": "9e461d02738fd757bc3d2933f9434d370f54d79aa7bbf71ca755487c9a10e111"
   }
  }
 },
 "nbformat": 4,
 "nbformat_minor": 2
}
