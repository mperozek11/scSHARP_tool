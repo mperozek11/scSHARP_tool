{
 "cells": [
  {
   "cell_type": "code",
   "execution_count": 5,
   "metadata": {},
   "outputs": [],
   "source": [
    "from scSHARP.sc_sharp import scSHARP\n",
    "from scSHARP.grid_search import GridSearch\n",
    "import numpy as np\n",
    "import pandas as pd"
   ]
  },
  {
   "cell_type": "code",
   "execution_count": 6,
   "metadata": {},
   "outputs": [],
   "source": [
    "data_path = \"simulations/splat_0.7/query_counts.csv.gz\"\n",
    "preds_path = \"simulations/splat_0.7/preds.csv\"\n",
    "tool_list = [\"scina\", \"scsorter\", \"sctype\", \"scpred\", \"singler\"]\n",
    "marker_path = \"simulations/splat_0.7/markers.txt\"\n",
    "ref_path = 'simulations/splat_0.7/ref_counts.csv.gz'\n",
    "ref_label_path = 'simulations/splat_0.7/ref_labels.csv'\n",
    "neighbors=2\n",
    "config=\"configs/2_25.txt\"\n",
    "sharp = scSHARP(data_path, tool_list, marker_path, preds_path=preds_path, config=config)"
   ]
  },
  {
   "cell_type": "code",
   "execution_count": 7,
   "metadata": {},
   "outputs": [],
   "source": [
    "gs = GridSearch(sharp)"
   ]
  },
  {
   "cell_type": "code",
   "execution_count": 8,
   "metadata": {},
   "outputs": [
    {
     "name": "stdout",
     "output_type": "stream",
     "text": [
      "[('/Users/maxperozek/CP499/scSHARP_tool/scSHARP/configs/2_15.txt', 35, 10, 0.0, 20, <scSHARP.sc_sharp.scSHARP object at 0x7ff2d57a94f0>), ('/Users/maxperozek/CP499/scSHARP_tool/scSHARP/configs/2_25.txt', 35, 10, 0.0, 20, <scSHARP.sc_sharp.scSHARP object at 0x7ff2d57a94f0>)]\n",
      "[('/Users/maxperozek/CP499/scSHARP_tool/scSHARP/configs/2_15.txt', 20, 10, 0.0, 20, <scSHARP.sc_sharp.scSHARP object at 0x7fef897aa4f0>), ('/Users/maxperozek/CP499/scSHARP_tool/scSHARP/configs/2_25.txt', 20, 10, 0.0, 20, <scSHARP.sc_sharp.scSHARP object at 0x7fef897aa4f0>)]\n",
      "[('/Users/maxperozek/CP499/scSHARP_tool/scSHARP/configs/2_15.txt', 35, 50, 0.0, 20, <scSHARP.sc_sharp.scSHARP object at 0x7fb7e9faa4f0>), ('/Users/maxperozek/CP499/scSHARP_tool/scSHARP/configs/2_25.txt', 35, 50, 0.0, 20, <scSHARP.sc_sharp.scSHARP object at 0x7fb7e9faa4f0>)]\n",
      "[('/Users/maxperozek/CP499/scSHARP_tool/scSHARP/configs/2_15.txt', 20, 50, 0.0, 20, <scSHARP.sc_sharp.scSHARP object at 0x7f8fdffaa4f0>), ('/Users/maxperozek/CP499/scSHARP_tool/scSHARP/configs/2_25.txt', 20, 50, 0.0, 20, <scSHARP.sc_sharp.scSHARP object at 0x7f8fdffaa4f0>)]\n",
      "DEBUG: total_acc: 0.9549999833106995, val_acc: 0.9430052042007446, test_acc: 0.0, best_acc: 0\n",
      "DEBUG: total_acc: 0.9440000057220459, val_acc: 0.9015544056892395, test_acc: 0.0, best_acc: 0\n",
      "DEBUG: total_acc: 0.9380000233650208, val_acc: 0.8963730335235596, test_acc: 0.0, best_acc: 0\n",
      "DEBUG: total_acc: 0.9480000138282776, val_acc: 0.9067357778549194, test_acc: 0.0, best_acc: 0\n",
      "DEBUG: total_acc: 0.9470000267028809, val_acc: 0.9015544056892395, test_acc: 0.0, best_acc: 0.9430052042007446\n",
      "DEBUG: total_acc: 0.8830000162124634, val_acc: 0.787564754486084, test_acc: 0.0, best_acc: 0.9015544056892395\n",
      "DEBUG: total_acc: 0.9470000267028809, val_acc: 0.9015544056892395, test_acc: 0.0, best_acc: 0.8963730335235596\n",
      "DEBUG: total_acc: 0.9359999895095825, val_acc: 0.8652849793434143, test_acc: 0.0, best_acc: 0.9067357778549194\n",
      "[(0.9015544056892395, {'config': '/Users/maxperozek/CP499/scSHARP_tool/scSHARP/configs/2_15.txt', 'batch_size': 20, 'neighbors': 10, 'dropout': 0.0}), (0.9015544056892395, {'config': '/Users/maxperozek/CP499/scSHARP_tool/scSHARP/configs/2_25.txt', 'batch_size': 20, 'neighbors': 50, 'dropout': 0.0}), (0.9430052042007446, {'config': '/Users/maxperozek/CP499/scSHARP_tool/scSHARP/configs/2_15.txt', 'batch_size': 35, 'neighbors': 10, 'dropout': 0.0}), (0.9067357778549194, {'config': '/Users/maxperozek/CP499/scSHARP_tool/scSHARP/configs/2_15.txt', 'batch_size': 35, 'neighbors': 50, 'dropout': 0.0})]\n",
      "filtered results: [(0.9015544056892395, {'config': '/Users/maxperozek/CP499/scSHARP_tool/scSHARP/configs/2_15.txt', 'batch_size': 20, 'neighbors': 10, 'dropout': 0.0}), (0.9015544056892395, {'config': '/Users/maxperozek/CP499/scSHARP_tool/scSHARP/configs/2_25.txt', 'batch_size': 20, 'neighbors': 50, 'dropout': 0.0}), (0.9430052042007446, {'config': '/Users/maxperozek/CP499/scSHARP_tool/scSHARP/configs/2_15.txt', 'batch_size': 35, 'neighbors': 10, 'dropout': 0.0}), (0.9067357778549194, {'config': '/Users/maxperozek/CP499/scSHARP_tool/scSHARP/configs/2_15.txt', 'batch_size': 35, 'neighbors': 50, 'dropout': 0.0})]\n"
     ]
    }
   ],
   "source": [
    "# small search\n",
    "configs = ['/Users/maxperozek/CP499/scSHARP_tool/scSHARP/configs/2_15.txt', '/Users/maxperozek/CP499/scSHARP_tool/scSHARP/configs/2_25.txt']\n",
    "batch_size=[20, 35]\n",
    "neighbors=[10, 50]\n",
    "dropouts=[0.0]\n",
    "\n",
    "# really small search\n",
    "# configs = ['/Users/maxperozek/CP499/scSHARP_tool/scSHARP/configs/2_15.txt']\n",
    "# batch_size=[20]\n",
    "# neighbors=[10]\n",
    "# dropouts=[0.0]\n",
    "\n",
    "gs_output = gs.model_grid_search(n_workers=4, random_inits=1, configs=configs, batch_size=batch_size, neighbors=neighbors, dropouts=dropouts, training_epochs=20)"
   ]
  },
  {
   "cell_type": "code",
   "execution_count": 10,
   "metadata": {},
   "outputs": [
    {
     "data": {
      "text/plain": [
       "[(0.9430052042007446,\n",
       "  {'config': '/Users/maxperozek/CP499/scSHARP_tool/scSHARP/configs/2_15.txt',\n",
       "   'batch_size': 35,\n",
       "   'neighbors': 10,\n",
       "   'dropout': 0.0}),\n",
       " (0.9067357778549194,\n",
       "  {'config': '/Users/maxperozek/CP499/scSHARP_tool/scSHARP/configs/2_15.txt',\n",
       "   'batch_size': 35,\n",
       "   'neighbors': 50,\n",
       "   'dropout': 0.0}),\n",
       " (0.9015544056892395,\n",
       "  {'config': '/Users/maxperozek/CP499/scSHARP_tool/scSHARP/configs/2_25.txt',\n",
       "   'batch_size': 20,\n",
       "   'neighbors': 50,\n",
       "   'dropout': 0.0}),\n",
       " (0.9015544056892395,\n",
       "  {'config': '/Users/maxperozek/CP499/scSHARP_tool/scSHARP/configs/2_15.txt',\n",
       "   'batch_size': 20,\n",
       "   'neighbors': 10,\n",
       "   'dropout': 0.0})]"
      ]
     },
     "execution_count": 10,
     "metadata": {},
     "output_type": "execute_result"
    }
   ],
   "source": [
    "list(gs_output)"
   ]
  },
  {
   "cell_type": "code",
   "execution_count": 7,
   "metadata": {},
   "outputs": [
    {
     "name": "stdout",
     "output_type": "stream",
     "text": [
      "Loss in epoch 0 = 57.780670\n",
      "Loss in epoch 10 = 0.056038\n",
      "Loss in epoch 20 = 0.013589\n",
      "tensor([0, 0, 2, 0, 3, 3, 1, 2, 1, 2])\n",
      "tensor([1.0000, 1.0000, 0.9998, 1.0000, 1.0000, 0.9999, 1.0000, 0.9999, 1.0000,\n",
      "        1.0000], grad_fn=<SliceBackward0>)\n"
     ]
    }
   ],
   "source": [
    "preds, train_nodes, test_nodes, keep_cells, conf_scores = sharp.run_prediction(training_epochs=30, thresh=0.51, batch_size=20, seed=8)\n",
    "print(preds[0:10])\n",
    "print(conf_scores[0:10])"
   ]
  },
  {
   "cell_type": "code",
   "execution_count": 8,
   "metadata": {},
   "outputs": [],
   "source": [
    "sharp.save_model('/Users/maxperozek/Desktop/example_model')"
   ]
  },
  {
   "cell_type": "code",
   "execution_count": 9,
   "metadata": {},
   "outputs": [],
   "source": [
    "sharp.load_model('/Users/maxperozek/Desktop/example_model')"
   ]
  },
  {
   "cell_type": "code",
   "execution_count": 10,
   "metadata": {},
   "outputs": [
    {
     "name": "stderr",
     "output_type": "stream",
     "text": [
      "/Users/maxperozek/CP499/scSHARP_tool/scSHARP/utilities.py:364: UserWarning: To copy construct from a tensor, it is recommended to use sourceTensor.clone().detach() or sourceTensor.clone().detach().requires_grad_(True), rather than torch.tensor(sourceTensor).\n",
      "  dataset  = torch.utils.data.TensorDataset(torch.tensor(counts), torch.tensor(preds))\n"
     ]
    },
    {
     "name": "stdout",
     "output_type": "stream",
     "text": [
      "kNN iter: 10\n",
      "kNN iter: 20\n",
      "kNN iter: 30\n",
      "kNN iter: 40\n",
      "kNN iter: 50\n"
     ]
    }
   ],
   "source": [
    "consensus_preds = sharp.knn_consensus()"
   ]
  },
  {
   "cell_type": "code",
   "execution_count": 11,
   "metadata": {},
   "outputs": [
    {
     "name": "stdout",
     "output_type": "stream",
     "text": [
      "(1000,)\n",
      "[0. 0. 1. 0. 3. 3. 1. 3. 1. 2.]\n",
      "[-1.  0.  1.  2.  3.]\n",
      "1\n"
     ]
    }
   ],
   "source": [
    "print(consensus_preds.shape)\n",
    "print(consensus_preds[:10])\n",
    "print(np.unique(consensus_preds))\n",
    "print(len(np.where(consensus_preds == -1))) # assuming that -1 is some kind of error"
   ]
  },
  {
   "cell_type": "code",
   "execution_count": 12,
   "metadata": {},
   "outputs": [
    {
     "name": "stderr",
     "output_type": "stream",
     "text": [
      "/Users/maxperozek/opt/anaconda3/envs/thesis/lib/python3.9/site-packages/captum/_utils/gradient.py:57: UserWarning: Input Tensor 0 did not already require gradients, required_grads has been set automatically.\n",
      "  warnings.warn(\n",
      "/Users/maxperozek/opt/anaconda3/envs/thesis/lib/python3.9/site-packages/captum/attr/_core/deep_lift.py:336: UserWarning: Setting forward, backward hooks and attributes on non-linear\n",
      "               activations. The hooks and attributes will be removed\n",
      "            after the attribution is finished\n",
      "  warnings.warn(\n"
     ]
    }
   ],
   "source": [
    "int_df = sharp.run_interpretation()"
   ]
  },
  {
   "cell_type": "code",
   "execution_count": 15,
   "metadata": {},
   "outputs": [
    {
     "data": {
      "image/png": "[encoded data removed]",
      "text/plain": [
       "<Figure size 432x288 with 2 Axes>"
      ]
     },
     "metadata": {
      "needs_background": "light"
     },
     "output_type": "display_data"
    },
    {
     "data": {
      "text/plain": [
       "<AxesSubplot:xlabel='Cell Type'>"
      ]
     },
     "execution_count": 15,
     "metadata": {},
     "output_type": "execute_result"
    }
   ],
   "source": [
    "sharp.heat_map(int_df, n=3)"
   ]
  },
  {
   "cell_type": "code",
   "execution_count": 13,
   "metadata": {},
   "outputs": [
    {
     "data": {
      "image/png": "[encoded data removed]",
      "text/plain": [
       "<Figure size 538.128x288 with 1 Axes>"
      ]
     },
     "metadata": {
      "needs_background": "light"
     },
     "output_type": "display_data"
    }
   ],
   "source": [
    "sharp.expression_plots(genes=['Gene28271'])"
   ]
  },
  {
   "cell_type": "code",
   "execution_count": null,
   "metadata": {},
   "outputs": [],
   "source": []
  }
 ],
 "metadata": {
  "kernelspec": {
   "display_name": "Python 3.9.7 ('thesis')",
   "language": "python",
   "name": "python3"
  },
  "language_info": {
   "codemirror_mode": {
    "name": "ipython",
    "version": 3
   },
   "file_extension": ".py",
   "mimetype": "text/x-python",
   "name": "python",
   "nbconvert_exporter": "python",
   "pygments_lexer": "ipython3",
   "version": "3.9.7"
  },
  "orig_nbformat": 4,
  "vscode": {
   "interpreter": {
    "hash": "1602471d9f8ed18664a5a568808ad6b32d5ac9c03cbc394cc7452913339cabc4"
   }
  }
 },
 "nbformat": 4,
 "nbformat_minor": 2
}
